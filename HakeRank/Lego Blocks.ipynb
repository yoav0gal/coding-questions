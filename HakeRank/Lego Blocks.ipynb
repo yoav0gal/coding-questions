{
 "cells": [
  {
   "cell_type": "markdown",
   "metadata": {},
   "source": [
    "[Task link](https://www.hackerrank.com/challenges/lego-blocks/problem)"
   ]
  },
  {
   "cell_type": "markdown",
   "metadata": {},
   "source": [
    "### thoughts\n",
    "\n",
    "1. Maybe recursive"
   ]
  },
  {
   "cell_type": "code",
   "execution_count": 60,
   "metadata": {},
   "outputs": [],
   "source": [
    "function rowOptions(width:number) {\n",
    "    const wallOptions = [0,1,2,4,8]\n",
    "    if (width < 5) return wallOptions[width]\n",
    "\n",
    "    for (let maxWallSize = 5; maxWallSize < width +1 ; maxWallSize++ ){\n",
    "        wallOptions.push(\n",
    "          wallOptions[maxWallSize - 1] +\n",
    "            wallOptions[maxWallSize - 2] +\n",
    "            wallOptions[maxWallSize - 3] +\n",
    "            wallOptions[maxWallSize - 4]\n",
    "        );\n",
    "    }\n",
    "\n",
    "    return wallOptions[wallOptions.length-1]    \n",
    "}\n",
    "\n",
    "function illegalCount (width: number) {\n",
    "    \n",
    "    const wallOptions = [0, 1, 2, 4, 8];\n",
    "    \n",
    "    for (let maxWallSize = 5; maxWallSize < width + 1; maxWallSize++) {\n",
    "      wallOptions.push(\n",
    "        wallOptions[maxWallSize - 1] +\n",
    "          wallOptions[maxWallSize - 2] +\n",
    "          wallOptions[maxWallSize - 3] +\n",
    "          wallOptions[maxWallSize - 4]\n",
    "      );\n",
    "    }    \n",
    "\n",
    "\n",
    "     const illegalOptions = [0,0];\n",
    "    \n",
    "      for (let maxWallSize = 2; maxWallSize < width + 1; maxWallSize++) {\n",
    "       \n",
    "        const invalidVerticalLineCountPerIndex = []\n",
    "        for(let verticalLine = 1; verticalLine<maxWallSize; verticalLine++) {\n",
    "           const illegalOptionsLeftOfLine = wallOptions[verticalLine] - illegalOptions[verticalLine];\n",
    "           const optionsToTheRight = wallOptions[maxWallSize- verticalLine];\n",
    "           invalidVerticalLineCountPerIndex.push(illegalOptionsLeftOfLine * optionsToTheRight)\n",
    "        }\n",
    "\n",
    "      }\n",
    "\n",
    "      return wallOptions[wallOptions.length - 1];   \n",
    "\n",
    "}\n",
    "\n",
    "function legoBlocks(height: number, width: number): number { \n",
    " \n",
    "    const wallOptions = [0, 1, 2, 4, 8];\n",
    "\n",
    "    for (let maxWallSize = 5; maxWallSize < width + 1; maxWallSize++) {\n",
    "      wallOptions.push(\n",
    "        wallOptions[maxWallSize - 1] +\n",
    "          wallOptions[maxWallSize - 2] +\n",
    "          wallOptions[maxWallSize - 3] +\n",
    "          wallOptions[maxWallSize - 4]\n",
    "      );\n",
    "    }\n",
    "\n",
    "    const totalWallOptions = wallOptions.map((optionCount) => Math.pow(optionCount,height));\n",
    "\n",
    "    const illegalOptions = [0, 0];\n",
    "\n",
    "\n",
    "    for (let maxWallSize = 2; maxWallSize < width + 1; maxWallSize++) {\n",
    "      const invalidVerticalLineCountPerIndex = [];\n",
    "      for (let verticalLine = 1; verticalLine < maxWallSize; verticalLine++) {\n",
    "        const illegalOptionsLeftOfLine =\n",
    "          totalWallOptions[verticalLine] - illegalOptions[verticalLine];\n",
    "        const optionsToTheRight = totalWallOptions[maxWallSize - verticalLine];\n",
    "        invalidVerticalLineCountPerIndex.push(\n",
    "          illegalOptionsLeftOfLine * optionsToTheRight\n",
    "        );\n",
    "      }\n",
    "      illegalOptions.push(invalidVerticalLineCountPerIndex.reduce((acc,curr)=> acc+curr,0));\n",
    "    }\n",
    "\n",
    "    return (totalWallOptions[width] - illegalOptions[width])% ( Math.pow(10,9)+7)\n",
    "\n",
    "}\n"
   ]
  },
  {
   "cell_type": "code",
   "execution_count": 57,
   "metadata": {},
   "outputs": [
    {
     "name": "stdout",
     "output_type": "stream",
     "text": [
      "56\n"
     ]
    }
   ],
   "source": [
    "// console.log(legoBlocks(2, 2));\n",
    "// console.log(legoBlocks(3, 2));\n",
    "// console.log(legoBlocks(2, 3));\n",
    "// console.log(legoBlocks(4, 4));\n",
    "\n",
    "console.log(rowOptions(7))"
   ]
  }
 ],
 "metadata": {
  "kernelspec": {
   "display_name": "Deno",
   "language": "typescript",
   "name": "deno"
  },
  "language_info": {
   "codemirror_mode": "typescript",
   "file_extension": ".ts",
   "mimetype": "text/x.typescript",
   "name": "typescript",
   "nbconvert_exporter": "script",
   "pygments_lexer": "typescript",
   "version": "5.6.2"
  }
 },
 "nbformat": 4,
 "nbformat_minor": 2
}
