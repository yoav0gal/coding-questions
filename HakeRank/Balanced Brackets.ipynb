{
 "cells": [
  {
   "cell_type": "markdown",
   "metadata": {},
   "source": [
    "[Task link](https://www.hackerrank.com/challenges/balanced-brackets/problem)"
   ]
  },
  {
   "cell_type": "code",
   "execution_count": 24,
   "metadata": {},
   "outputs": [],
   "source": [
    "function isBalanced(s: string): string {\n",
    "   const stack = [];\n",
    "\n",
    "   for (let char of s) {\n",
    "     if (char === \"{\" || char === \"(\" || char === \"[\") {\n",
    "       stack.push(char);\n",
    "       continue;\n",
    "     }\n",
    "     if (char === \"}\") {\n",
    "       if (stack.pop() !== \"{\") return \"NO\";\n",
    "     }\n",
    "\n",
    "     if (char === \")\") {\n",
    "       if (stack.pop() !== \"(\") return \"NO\";\n",
    "     }\n",
    "     if (char === \"]\") {\n",
    "       if (stack.pop() !== \"[\") return \"NO\";\n",
    "     }\n",
    "   }\n",
    "\n",
    "   return stack.length == 0 ? \"YES\" : \"NO\"\n",
    "\n",
    "}\n"
   ]
  },
  {
   "cell_type": "code",
   "execution_count": 25,
   "metadata": {},
   "outputs": [
    {
     "name": "stdout",
     "output_type": "stream",
     "text": [
      "YES\n",
      "NO\n",
      "YES\n"
     ]
    }
   ],
   "source": [
    "function test() {\n",
    "    console.log(isBalanced(\"{[()]}\"));\n",
    "    console.log(isBalanced(\"{[(]]}\"));\n",
    "    console.log(isBalanced(\"{{[[(())]]}}\"));\n",
    "}\n",
    "test()"
   ]
  }
 ],
 "metadata": {
  "kernelspec": {
   "display_name": "Deno",
   "language": "typescript",
   "name": "deno"
  },
  "language_info": {
   "codemirror_mode": "typescript",
   "file_extension": ".ts",
   "mimetype": "text/x.typescript",
   "name": "typescript",
   "nbconvert_exporter": "script",
   "pygments_lexer": "typescript",
   "version": "5.6.2"
  }
 },
 "nbformat": 4,
 "nbformat_minor": 2
}
