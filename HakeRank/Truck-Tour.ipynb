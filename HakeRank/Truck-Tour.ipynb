{
 "cells": [
  {
   "cell_type": "markdown",
   "metadata": {},
   "source": [
    "[Task link](https://www.hackerrank.com/challenges/truck-tour/problem)"
   ]
  },
  {
   "cell_type": "code",
   "execution_count": 53,
   "metadata": {},
   "outputs": [],
   "source": [
    "function reorderArray(array:[], spliceIndex:number) {\n",
    "    const copy = Array.from(array)\n",
    "    const newStart = copy.splice(spliceIndex);\n",
    "    newStart.push(...copy)\n",
    "    return newStart\n",
    "}\n",
    "\n",
    "function brutForce (gasCost:number[]) {\n",
    "\n",
    "    for(let currentStartStation=0; currentStartStation<gasCost.length; currentStartStation++) { \n",
    "        let didLoop = true;\n",
    "\n",
    "\n",
    "       gasCost.reduce((totalGas,stationGas,currentIndex,GasCostArray)=>{\n",
    "            totalGas+=GasCostArray[(currentStartStation+currentIndex) % GasCostArray.length]\n",
    "            if (totalGas<0) {\n",
    "                didLoop = false;\n",
    "            }\n",
    "            return totalGas\n",
    "        },0)\n",
    "        if (didLoop) return currentStartStation\n",
    "    }\n",
    "    return -1\n",
    "\n",
    "}\n",
    "\n",
    "\n",
    "function twoPointers (gasCost:number[]):number {\n",
    "\n",
    "    let startStation  = 0;\n",
    "    let stationsPassed =0 ; \n",
    "\n",
    "    while (startStation< gasCost.length) {\n",
    "        let gasTank = 0;\n",
    "\n",
    "\n",
    "\n",
    "        while (gasTank >= 0 && stationsPassed < gasCost.length) {\n",
    "          gasTank += gasCost[(startStation+stationsPassed)%gasCost.length];\n",
    "          stationsPassed++;\n",
    "        }\n",
    "\n",
    "        if(gasTank>= 0) return startStation;\n",
    "\n",
    "        startStation += stationsPassed;\n",
    "        stationsPassed = 0;\n",
    "\n",
    "\n",
    "    }\n",
    "\n",
    "\n",
    "    return -1;\n",
    "}\n",
    "\n",
    "function truckTour(petrolpumps: number[][]): number {\n",
    "   \n",
    "    const gasCost = petrolpumps.map(([gasFilled, gasLost])=> gasFilled-gasLost);\n",
    "    return twoPointers(gasCost);\n",
    "\n",
    "\n",
    "\n",
    "}"
   ]
  },
  {
   "cell_type": "code",
   "execution_count": 51,
   "metadata": {},
   "outputs": [],
   "source": [
    "\n",
    "function testCases() {\n",
    "  console.log( truckTour([\n",
    "    [1, 5],\n",
    "    [10, 3],\n",
    "    [3, 4],\n",
    "  ])\n",
    ")\n",
    "}\n"
   ]
  },
  {
   "cell_type": "code",
   "execution_count": 54,
   "metadata": {},
   "outputs": [
    {
     "name": "stdout",
     "output_type": "stream",
     "text": [
      "{ startStation: 0, stationsPassed: 1, gasTank: -4 }\n",
      "{ startStation: 1, stationsPassed: 3, gasTank: 2 }\n",
      "1\n"
     ]
    }
   ],
   "source": [
    "testCases()"
   ]
  }
 ],
 "metadata": {
  "kernelspec": {
   "display_name": "Deno",
   "language": "typescript",
   "name": "deno"
  },
  "language_info": {
   "codemirror_mode": "typescript",
   "file_extension": ".ts",
   "mimetype": "text/x.typescript",
   "name": "typescript",
   "nbconvert_exporter": "script",
   "pygments_lexer": "typescript",
   "version": "5.6.2"
  }
 },
 "nbformat": 4,
 "nbformat_minor": 2
}
