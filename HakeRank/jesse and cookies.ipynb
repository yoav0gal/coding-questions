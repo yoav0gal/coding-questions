{
 "cells": [
  {
   "cell_type": "markdown",
   "metadata": {},
   "source": [
    "[Task link](https://www.hackerrank.com/challenges/jesse-and-cookies/problem)"
   ]
  },
  {
   "cell_type": "markdown",
   "metadata": {},
   "source": [
    "\n",
    "## code:\n",
    "\n",
    "### explanation:\n",
    "    did this one in java to use the PriorityQueue (A.K.A minHeap) to have a less complex solution\n",
    "\n",
    "```java\n",
    " public static int cookies(int minSweetLevel, List<Integer> cookiesList) {\n",
    "        PriorityQueue<Integer> cookiesQueue = new PriorityQueue<Integer>(cookiesList);\n",
    "        \n",
    "        int mergeCount = 0;\n",
    "        \n",
    "        \n",
    "        \n",
    "        while (cookiesQueue.size()>1) {\n",
    "            \n",
    "            if(cookiesQueue.peek()>= minSweetLevel) return mergeCount;\n",
    "            \n",
    "            int newCookieSweetLevel = cookiesQueue.poll() + 2* cookiesQueue.poll();\n",
    "            cookiesQueue.add(newCookieSweetLevel);\n",
    "            \n",
    "            mergeCount++;\n",
    "        }\n",
    "        \n",
    "        if(cookiesQueue.peek()>= minSweetLevel) return mergeCount;\n",
    "        \n",
    "        return -1;\n",
    "    }\n",
    "```"
   ]
  }
 ],
 "metadata": {
  "language_info": {
   "name": "python"
  }
 },
 "nbformat": 4,
 "nbformat_minor": 2
}
