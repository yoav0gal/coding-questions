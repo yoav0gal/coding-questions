{
 "cells": [
  {
   "cell_type": "markdown",
   "metadata": {},
   "source": [
    "[Task link] (https://www.hackerrank.com/challenges/pairs/problem)"
   ]
  },
  {
   "cell_type": "code",
   "execution_count": null,
   "metadata": {
    "vscode": {
     "languageId": "typescript"
    }
   },
   "outputs": [],
   "source": [
    "function pairs(k: number, arr: number[]): number {\n",
    "  const watingForPair = {} as { [key: number]: number };\n",
    "  let pairCount = 0;\n",
    "\n",
    "  arr.forEach((number) => {\n",
    "    watingForPair[number] = number;\n",
    "    const higherPair = number + k;\n",
    "    const lowePair = number - k;\n",
    "\n",
    "    if (watingForPair[higherPair]) {\n",
    "      pairCount++;\n",
    "    }\n",
    "    if (watingForPair[lowePair]) {\n",
    "      pairCount++;\n",
    "    }\n",
    "  });\n",
    "  return pairCount;\n",
    "}\n"
   ]
  },
  {
   "cell_type": "code",
   "execution_count": null,
   "metadata": {
    "vscode": {
     "languageId": "typescript"
    }
   },
   "outputs": [],
   "source": [
    "function pairsTwoPointers(k: number, arr: number[]): number {\n",
    "  const watingForPair = {} as { [key: number]: number };\n",
    "  let pairCount = 0;\n",
    "\n",
    "  arr.forEach((number) => {\n",
    "    watingForPair[number] = number;\n",
    "    const higherPair = number + k;\n",
    "    const lowePair = number - k;\n",
    "\n",
    "    if (watingForPair[higherPair]) {\n",
    "      pairCount++;\n",
    "    }\n",
    "    if (watingForPair[lowePair]) {\n",
    "      pairCount++;\n",
    "    }\n",
    "  });\n",
    "  return pairCount;\n",
    "}\n"
   ]
  }
 ],
 "metadata": {
  "language_info": {
   "name": "python"
  }
 },
 "nbformat": 4,
 "nbformat_minor": 2
}
