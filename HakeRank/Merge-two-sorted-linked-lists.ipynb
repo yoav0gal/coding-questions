{
 "cells": [
  {
   "cell_type": "markdown",
   "metadata": {},
   "source": [
    "[Task link](https://www.hackerrank.com/challenges/merge-two-sorted-linked-lists/problem)"
   ]
  },
  {
   "cell_type": "code",
   "execution_count": 9,
   "metadata": {},
   "outputs": [],
   "source": [
    "const SinglyLinkedListNode = class {\n",
    "    constructor(nodeData) {\n",
    "        this.data = nodeData;\n",
    "        this.next = null;\n",
    "    }\n",
    "     toString() {\n",
    "        return `${this.data} -> ${this.next}`\n",
    "    }\n",
    "};\n",
    "\n",
    "function mergeLists(head1, head2) {\n",
    "  const mergedListHead = new SinglyLinkedListNode(null);\n",
    "\n",
    "  let mergedListCurrent = mergedListHead;\n",
    "\n",
    "  while (head1 || head2) {\n",
    "    if (head1 && head2) {\n",
    "      if (head1.data < head2.data) {\n",
    "        mergedListCurrent.next = head1;\n",
    "        mergedListCurrent = mergedListCurrent.next;\n",
    "        head1 = head1.next;\n",
    "        continue;\n",
    "      }\n",
    "      mergedListCurrent.next = head2;\n",
    "      mergedListCurrent = mergedListCurrent.next;\n",
    "      head2 = head2.next;\n",
    "      continue;\n",
    "    }\n",
    "\n",
    "    if (head2) {\n",
    "      mergedListCurrent.next = head2;\n",
    "      mergedListCurrent = mergedListCurrent.next;\n",
    "      head2 = head2.next;\n",
    "      continue;\n",
    "    }\n",
    "\n",
    "    mergedListCurrent.next = head1;\n",
    "    mergedListCurrent = mergedListCurrent.next;\n",
    "    head1 = head1.next;\n",
    "    continue;\n",
    "  }\n",
    "\n",
    "  return mergedListHead.next;\n",
    "}\n"
   ]
  },
  {
   "cell_type": "code",
   "execution_count": 13,
   "metadata": {},
   "outputs": [
    {
     "name": "stdout",
     "output_type": "stream",
     "text": [
      "head1: 1 -> 2 -> 3 -> null\n",
      "head2: 2 -> 3 -> 4 -> null\n",
      "merged:1 -> 2 -> 2 -> 3 -> 3 -> 4 -> null\n"
     ]
    }
   ],
   "source": [
    "function test() {\n",
    "    const head1 = new SinglyLinkedListNode(1);\n",
    "    head1.next = new SinglyLinkedListNode(2);\n",
    "    head1.next.next = new SinglyLinkedListNode(3);\n",
    "\n",
    "    const head2 = new SinglyLinkedListNode(2);\n",
    "    head2.next = new SinglyLinkedListNode(3);\n",
    "    head2.next.next = new SinglyLinkedListNode(4);\n",
    "\n",
    "    console.log(\"head1: \" + `${head1}`);\n",
    "    console.log(\"head2: \" + `${head2}`);\n",
    "    console.log(\"merged:\" + `${mergeLists(head1,head2)}` )\n",
    "}\n",
    "test()"
   ]
  }
 ],
 "metadata": {
  "kernelspec": {
   "display_name": "Deno",
   "language": "typescript",
   "name": "deno"
  },
  "language_info": {
   "codemirror_mode": "typescript",
   "file_extension": ".ts",
   "mimetype": "text/x.typescript",
   "name": "typescript",
   "nbconvert_exporter": "script",
   "pygments_lexer": "typescript",
   "version": "5.6.2"
  }
 },
 "nbformat": 4,
 "nbformat_minor": 2
}
