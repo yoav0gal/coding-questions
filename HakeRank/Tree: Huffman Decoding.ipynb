{
 "cells": [
  {
   "cell_type": "markdown",
   "metadata": {},
   "source": [
    "[Task link](https://www.hackerrank.com/challenges/tree-huffman-decoding/problem)"
   ]
  },
  {
   "cell_type": "markdown",
   "metadata": {},
   "source": [
    "## code:\n",
    "\n",
    "### explanation:\n",
    "    used Java for the boilerPlate code!\n",
    "\n",
    "\n",
    "```java\n",
    "\n",
    "    void decode(String message, Node root) {\n",
    "        \n",
    "        String decodedMessage = \"\";\n",
    "        \n",
    "        Node headRef = root;\n",
    "        Node currentNode = headRef;\n",
    "        // System.out.println(message);\n",
    "        \n",
    "        int messageIndex=0;\n",
    "        while (messageIndex<message.length()) {\n",
    "           if(currentNode instanceof HuffmanNode) {\n",
    "            // System.out.println(\"HuffNode - messgeIndex: \" +messageIndex);\n",
    "            Boolean moveLeft = message.charAt(messageIndex) == '0';\n",
    "            currentNode = moveLeft? currentNode.left : currentNode.right;\n",
    "            messageIndex++;\n",
    "           }\n",
    "           if (currentNode instanceof HuffmanLeaf) {\n",
    "            // System.out.println(\"HuffLeaf - messgeIndex: \" +messageIndex + \" char \" + currentNode.data );\n",
    "            decodedMessage += currentNode.data;\n",
    "            currentNode = headRef;\n",
    "           }  \n",
    "        }\n",
    "        \n",
    "       System.out.println(decodedMessage);\n",
    "    }\n",
    "    ```"
   ]
  },
  {
   "cell_type": "code",
   "execution_count": null,
   "metadata": {
    "vscode": {
     "languageId": "typescript"
    }
   },
   "outputs": [],
   "source": []
  }
 ],
 "metadata": {
  "language_info": {
   "name": "python"
  }
 },
 "nbformat": 4,
 "nbformat_minor": 2
}
