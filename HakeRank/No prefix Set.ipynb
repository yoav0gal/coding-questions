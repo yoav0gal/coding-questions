{
 "cells": [
  {
   "cell_type": "markdown",
   "metadata": {},
   "source": [
    "[Task link](https://www.hackerrank.com/challenges/no-prefix-set/problem)"
   ]
  },
  {
   "cell_type": "code",
   "execution_count": null,
   "metadata": {
    "vscode": {
     "languageId": "typescript"
    }
   },
   "outputs": [],
   "source": [
    "function noPrefix(words: string[]): void {\n",
    "  // Adds just yourself so words would look for you when the are adding prefixes\n",
    "  const mainWordComeFindMe = new Map<string, string>();\n",
    "\n",
    "  // words put all of their possible prefix\n",
    "  const amIaPrefix = new Map<string, string>();\n",
    "\n",
    "  for (let word of words) {\n",
    "    const prefixOf = amIaPrefix.get(word);\n",
    "\n",
    "    if (prefixOf) {\n",
    "      console.log(\"BAD SET\");\n",
    "      console.log(prefixOf);\n",
    "      return;\n",
    "    }\n",
    "\n",
    "    // check for all selfPrixes\n",
    "    let prefix = \"\";\n",
    "    for (\n",
    "      let prefixLastIndex = 0;\n",
    "      prefixLastIndex < word.length;\n",
    "      prefixLastIndex++\n",
    "    ) {\n",
    "        \n",
    "      prefix += word.charAt(prefixLastIndex);\n",
    "      if (mainWordComeFindMe.has(prefix)) {\n",
    "        console.log(\"BAD SET\");\n",
    "        console.log(word);\n",
    "        return;\n",
    "      }\n",
    "\n",
    "      amIaPrefix.set(prefix, word);\n",
    "    }\n",
    "\n",
    "    mainWordComeFindMe.set(word, word);\n",
    "  }\n",
    "  console.log(\"GOOD SET\");\n",
    "}\n"
   ]
  },
  {
   "cell_type": "code",
   "execution_count": null,
   "metadata": {},
   "outputs": [],
   "source": [
    "class TrieNode: \n",
    "    def __init__(self) :\n",
    "        self.children = {};\n",
    "        self.isend =False;\n",
    "        \n",
    "\n",
    "def insert(root,word):\n",
    "        curr = root\n",
    "        for c in word:\n",
    "            if c not in curr.children:\n",
    "                curr.children[c] = TrieNode()\n",
    "            curr = curr.children[c]\n",
    "            if curr.isend:\n",
    "                return False\n",
    "        if curr.children:\n",
    "            return False\n",
    "        curr.isend =True\n",
    "        return True    \n",
    "        \n",
    "        \n",
    "\n",
    "def noPrefix(words):\n",
    "    root = TrieNode()\n",
    "    for word in words:\n",
    "        if not insert(root,word):\n",
    "            print('BAD SET')\n",
    "            print(word)\n",
    "            return\n",
    "    print(\"GOOD SET\")"
   ]
  }
 ],
 "metadata": {
  "language_info": {
   "name": "python"
  }
 },
 "nbformat": 4,
 "nbformat_minor": 2
}
