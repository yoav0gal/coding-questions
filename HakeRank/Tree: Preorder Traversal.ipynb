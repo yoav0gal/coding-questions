{
 "cells": [
  {
   "cell_type": "markdown",
   "metadata": {},
   "source": [
    "[Task link](https://www.hackerrank.com/challenges/tree-preorder-traversal/problem)"
   ]
  },
  {
   "cell_type": "code",
   "execution_count": null,
   "metadata": {
    "vscode": {
     "languageId": "javascript"
    }
   },
   "outputs": [],
   "source": [
    "function fillPreOrderArray(root, array = []) {\n",
    "  if (root === null) return;\n",
    "  array.push(root.data);\n",
    "  fillPreOrderArray(root.left, array);\n",
    "  fillPreOrderArray(root.right, array);\n",
    "}\n",
    "\n",
    "function preOrder(root) {\n",
    "  const preOrderArray = [];\n",
    "  fillPreOrderArray(root, preOrderArray);\n",
    "\n",
    "  console.log(preOrderArray.toString().split(\",\").join(\" \"));\n",
    "}\n"
   ]
  }
 ],
 "metadata": {
  "language_info": {
   "name": "python"
  }
 },
 "nbformat": 4,
 "nbformat_minor": 2
}
