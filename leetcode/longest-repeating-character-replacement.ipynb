{
 "cells": [
  {
   "cell_type": "markdown",
   "metadata": {},
   "source": [
    "[Task link](https://leetcode.com/problems/longest-repeating-character-replacement/description/)"
   ]
  },
  {
   "cell_type": "markdown",
   "metadata": {},
   "source": [
    "### approach:\n",
    " * find the longest sub sting with only 2 characters that one of them appers K times or less.\n",
    " * return his length."
   ]
  },
  {
   "cell_type": "code",
   "execution_count": 44,
   "metadata": {},
   "outputs": [
    {
     "name": "stdout",
     "output_type": "stream",
     "text": [
      "4\n"
     ]
    }
   ],
   "source": [
    "function characterReplacement(s: string, k: number): number {\n",
    "\n",
    "    let maxLen = 0;\n",
    "\n",
    "    const MAX_LEGAL_MAP_KEY = k==0 ? 1 : 2;\n",
    "    const lettersCheckingMap = new Map<string,number>();\n",
    "    \n",
    "    function incMap(key) {\n",
    "      const timesIn = lettersCheckingMap.get(key) ?? 0\n",
    "      lettersCheckingMap.set(key, timesIn+1);\n",
    "      console.log(`ADDING: ${key}`);\n",
    "    }\n",
    "\n",
    "    function decMap(key) {\n",
    "          const timesIn = lettersCheckingMap.get(key)\n",
    "\n",
    "          timesIn > 1\n",
    "            ? lettersCheckingMap.set(key, timesIn - 1)\n",
    "            : lettersCheckingMap.delete(key);\n",
    "\n",
    "            console.log(`REMOVING: ${key}`);\n",
    "    }\n",
    "\n",
    "\n",
    "    do {\n",
    "      incMap(s.charAt(maxLen));\n",
    "      maxLen++;\n",
    "    } while (lettersCheckingMap.size < MAX_LEGAL_MAP_KEY && maxLen < s.length);\n",
    "    \n",
    "  \n",
    "\n",
    "    let left = 0\n",
    "    let right = maxLen;\n",
    "\n",
    "\n",
    "\n",
    "    while(right < s.length) {\n",
    "\n",
    "        const currChar = s.charAt(right);\n",
    "        incMap(currChar);\n",
    "\n",
    "        console.log(`Current substring: ${s.substring(left, right+1)}`)\n",
    "        if(lettersCheckingMap.size <= MAX_LEGAL_MAP_KEY) {\n",
    "\n",
    "            let currShowTimes = 0;\n",
    "            let otherShowTimes =  0;\n",
    "\n",
    "           lettersCheckingMap.forEach((charShowTimes,char) =>  {\n",
    "                char === currChar ? currShowTimes= charShowTimes : otherShowTimes=charShowTimes\n",
    "                }    \n",
    "            )\n",
    "\n",
    "            if(currShowTimes <= k  || otherShowTimes<=k ) { \n",
    "            maxLen = Math.max(maxLen, (right-left)+1); //Update maxLen \n",
    "\n",
    "            } else {\n",
    "\n",
    "            const substringFirstChar = s.charAt(left);\n",
    "            decMap(substringFirstChar);\n",
    "            left++\n",
    "            }\n",
    "        } else {\n",
    "            while (lettersCheckingMap.size> MAX_LEGAL_MAP_KEY ) {\n",
    "                \n",
    "                decMap(s.charAt(left));\n",
    "                left++;\n",
    "            }\n",
    "        }\n",
    "        right++\n",
    "        \n",
    "    }\n",
    "\n",
    "\n",
    "    return maxLen\n",
    "};\n",
    "\n",
    "function tests() {\n",
    "    console.log(\n",
    "      characterReplacement(\n",
    "        \"KRSCDCSONAJNHLBMDQGIFCPEKPOHQIHLTDIQGEKLRLCQNBOHNDQGHJPNDQPERNFSSSRDEQLFPCCCARFMDLHADJADAGNNSBNCJQOF\",\n",
    "        7\n",
    "      )\n",
    "    );\n",
    "    // console.log(characterReplacement(\"AABABBA\",1));\n",
    "}\n",
    "tests();"
   ]
  },
  {
   "cell_type": "code",
   "execution_count": null,
   "metadata": {},
   "outputs": [],
   "source": []
  }
 ],
 "metadata": {
  "kernelspec": {
   "display_name": "Deno",
   "language": "typescript",
   "name": "deno"
  },
  "language_info": {
   "codemirror_mode": "typescript",
   "file_extension": ".ts",
   "mimetype": "text/x.typescript",
   "name": "typescript",
   "nbconvert_exporter": "script",
   "pygments_lexer": "typescript",
   "version": "5.6.2"
  }
 },
 "nbformat": 4,
 "nbformat_minor": 2
}
