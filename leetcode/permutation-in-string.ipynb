{
 "cells": [
  {
   "cell_type": "markdown",
   "metadata": {},
   "source": [
    "[Task link](https://leetcode.com/problems/permutation-in-string/)"
   ]
  },
  {
   "cell_type": "code",
   "execution_count": 87,
   "metadata": {},
   "outputs": [],
   "source": [
    "function checkInclusion(s1: string, s2: string): boolean {\n",
    "  // check for edge case when s1 > s2\n",
    "  if (s1.length > s2.length) return false;\n",
    "  // declare HashMap to store s1 char frequency\n",
    "  const s1map = new Map<string, number>();\n",
    "  // iterate over s1 string\n",
    "  for (let i = 0; i < s1.length; i++) {\n",
    "    // calculate frequency\n",
    "    s1map.set(s1[i], s1map.has(s1[i]) ? s1map.get(s1[i]) + 1 : 1);\n",
    "  }\n",
    "  // declare second HashMap to store our window char frequency\n",
    "  const s2map = new Map<string, number>();\n",
    "  // declare len to check if we have window of needed length\n",
    "  let len = 0;\n",
    "  // declare left pointer\n",
    "  let l = 0;\n",
    "  // declare right pointer\n",
    "  let r = l;\n",
    "  // iterate over s2 string:\n",
    "  while (r <= s2.length) {\n",
    "    // if we didn't have our window length:\n",
    "    if (len < s1.length) {\n",
    "      // calculate our char fequency of our window\n",
    "      s2map.set(s2[r], s2map.has(s2[r]) ? s2map.get(s2[r]) + 1 : 1);\n",
    "      // increment len\n",
    "      len++;\n",
    "      // if we have reach length of our window:\n",
    "    } else {\n",
    "      // we check that our window have permutation, if true we return true\n",
    "      if (check(s1map, s2map)) return true;\n",
    "      // else we get frequency of char at left pointer in our window\n",
    "      const val = s2map.get(s2[l]);\n",
    "      // if frequency more than one:\n",
    "      if (val > 1) {\n",
    "        // we decrement frequency of char at left pointer in our window\n",
    "        s2map.set(s2[l], s2map.get(s2[l]) - 1);\n",
    "        // if char is unique in our window\n",
    "      } else {\n",
    "        // we delete it from window\n",
    "        s2map.delete(s2[l]);\n",
    "      }\n",
    "      // increment left pointer\n",
    "      l++;\n",
    "      // calculate frequency of char at right pointer\n",
    "      s2map.set(s2[r], s2map.has(s2[r]) ? s2map.get(s2[r]) + 1 : 1);\n",
    "    }\n",
    "    // increment right pointer\n",
    "    r++;\n",
    "  }\n",
    "  // return false since we did not find any permutations\n",
    "  return false;\n",
    "}\n",
    "\n",
    "// this function helps us to check for permutation in frequency map of s1 and our window in s2\n",
    "function check(\n",
    "  s1map: Map<string, number>,\n",
    "  s2map: Map<string, number>\n",
    "): boolean {\n",
    "  // we create counter to count each char frequency\n",
    "  let count = 0;\n",
    "  // iterate over s1 frequency map:\n",
    "  s1map.forEach((value, key) => {\n",
    "    // get window char frequency\n",
    "    const check = s2map.get(key);\n",
    "    // if we have frequency and it's value are equals to s1 char frequency, we count this char\n",
    "    if (check && value === check) count++;\n",
    "  });\n",
    "  // if our count match s1 frequency we return true as this means we found ur permutation, else false\n",
    "  return count === s1map.size;\n",
    "}\n"
   ]
  },
  {
   "cell_type": "code",
   "execution_count": 88,
   "metadata": {},
   "outputs": [
    {
     "name": "stdout",
     "output_type": "stream",
     "text": [
      "[Map Iterator] { \"a\", \"d\", \"c\" }\n",
      "Current window: dcd\n",
      "{ currentSubstring: \"d\", currentChar: \"d\" }\n",
      "{ currentSubstring: \"dc\", currentChar: \"c\" }\n",
      "{ currentSubstring: \"dcd\", currentChar: \"d\" }\n",
      "d freq is 0\n",
      "[Map Iterator] { \"a\", \"d\", \"c\" }\n",
      "Current window: cda\n",
      "{ currentSubstring: \"c\", currentChar: \"c\" }\n",
      "{ currentSubstring: \"cd\", currentChar: \"d\" }\n",
      "{ currentSubstring: \"cda\", currentChar: \"a\" }\n",
      "true\n"
     ]
    }
   ],
   "source": [
    "// console.log(checkInclusion(\"ab\", \"eidbaooo\"))\n",
    "\n",
    "// console.log(checkInclusion(\"ab\", \"eidboaoo\"))\n",
    "\n",
    "console.log(checkInclusion(\"adc\", \"dcda\"));"
   ]
  },
  {
   "cell_type": "code",
   "execution_count": 89,
   "metadata": {},
   "outputs": [
    {
     "name": "stdout",
     "output_type": "stream",
     "text": [
      "{ subArray: [ 1, 2 ], leftSteps: 3 }\n",
      "{ subArray: [ 4 ], leftSteps: 2 }\n",
      "{ subArray: [ 6, 7, 8, 9 ], leftSteps: 4 }\n"
     ]
    }
   ],
   "source": [
    "function slidingWindow(windowSize,array){\n",
    "\n",
    "    let leftPointer=0;\n",
    "    let rightPointer = windowSize-1\n",
    "\n",
    "\n",
    "    while(rightPointer < array.length ) {\n",
    "  \n",
    "    let leftSteps = 0\n",
    "    const subArray  =[];\n",
    "\n",
    "    // console.log({rightPointer,leftPointer,leftSteps})\n",
    "    while(leftPointer+leftSteps<=rightPointer){\n",
    "        const currentNumber = array[leftPointer+leftSteps];\n",
    "        leftSteps++\n",
    "\n",
    "        // console.log({currentNumber})\n",
    "        if (!([3,5].includes(currentNumber))){\n",
    "            subArray.push(currentNumber);\n",
    "            continue;\n",
    "        }\n",
    "        break\n",
    "        \n",
    "    }\n",
    "    console.log({subArray,leftSteps});\n",
    "    leftPointer += leftSteps;\n",
    "    rightPointer += leftSteps\n",
    "    // console.log({leftPointer,rightPointer})\n",
    "\n",
    "    }\n",
    "}\n",
    "slidingWindow(4, [1,2,3,4,5,6,7,8,9,10])\n"
   ]
  },
  {
   "cell_type": "code",
   "execution_count": null,
   "metadata": {},
   "outputs": [],
   "source": []
  }
 ],
 "metadata": {
  "kernelspec": {
   "display_name": "Deno",
   "language": "typescript",
   "name": "deno"
  },
  "language_info": {
   "codemirror_mode": "typescript",
   "file_extension": ".ts",
   "mimetype": "text/x.typescript",
   "name": "typescript",
   "nbconvert_exporter": "script",
   "pygments_lexer": "typescript",
   "version": "5.6.2"
  }
 },
 "nbformat": 4,
 "nbformat_minor": 2
}
