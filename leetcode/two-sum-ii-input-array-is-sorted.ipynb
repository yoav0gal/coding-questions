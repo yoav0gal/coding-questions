{
 "cells": [
  {
   "cell_type": "markdown",
   "metadata": {},
   "source": [
    "[Task Link](https://leetcode.com/problems/two-sum-ii-input-array-is-sorted/description/)"
   ]
  },
  {
   "cell_type": "code",
   "execution_count": 13,
   "metadata": {},
   "outputs": [
    {
     "name": "stdout",
     "output_type": "stream",
     "text": [
      "{ mid: 1, val: 3 }\n",
      "{ left: 2, mid: 1, right: 2 }\n",
      "{ mid: 2, val: 4 }\n",
      "2\n"
     ]
    }
   ],
   "source": [
    "\n",
    "\n",
    "function binarySearch(value:number, array:number[]){\n",
    "    let left =0;\n",
    "    let right = array.length-1;\n",
    "\n",
    "    // let count = 0 \n",
    "\n",
    "    while (left<=right) {\n",
    "        let mid = Math.floor((left + right) / 2);\n",
    "\n",
    "        // console.log({mid, val:array[mid]})\n",
    "\n",
    "        if(array[mid]<value) {\n",
    "            left = mid+1\n",
    "        }else if (array[mid] > value) {\n",
    "            right = mid-1\n",
    "        } else {\n",
    "            return mid \n",
    "        }\n",
    "        // console.log({left,mid,right})\n",
    "    }\n",
    "    return -1;\n",
    "\n",
    "\n",
    "\n",
    "}\n",
    "\n",
    "function twoSum(numbers: number[], target: number): number[] {\n",
    "    for (let i =0; i<numbers.length; i++) {\n",
    "\n",
    "        const lookFor = target - numbers[i];\n",
    "        if (\n",
    "          lookFor == numbers[i] &&\n",
    "          i + 1 < numbers.length &&\n",
    "          numbers[i + 1] == lookFor\n",
    "        ) {\n",
    "          return [i + 1, i + 2];\n",
    "        }\n",
    "        // console.log(lookFor)\n",
    "        const pairIndex =  binarySearch(lookFor, numbers);\n",
    "        if(pairIndex !== -1) return [i+1, pairIndex+1]\n",
    "    }\n",
    "    return [-1,-1]\n",
    "    \n",
    "}\n",
    "\n",
    "\n",
    "function test() {\n",
    "    // console.log(twoSum([2, 3, 4],6));\n",
    "    console.log(binarySearch(4,[2,3,4]));\n",
    "} \n",
    "\n",
    "test();\n"
   ]
  },
  {
   "cell_type": "code",
   "execution_count": null,
   "metadata": {},
   "outputs": [],
   "source": [
    "// function test() {\n",
    "//   console.log();\n",
    "//   console.log();\n",
    "// }\n",
    "\n",
    "// test();\n"
   ]
  }
 ],
 "metadata": {
  "kernelspec": {
   "display_name": "Deno",
   "language": "typescript",
   "name": "deno"
  },
  "language_info": {
   "codemirror_mode": "typescript",
   "file_extension": ".ts",
   "mimetype": "text/x.typescript",
   "name": "typescript",
   "nbconvert_exporter": "script",
   "pygments_lexer": "typescript",
   "version": "5.6.2"
  }
 },
 "nbformat": 4,
 "nbformat_minor": 2
}
