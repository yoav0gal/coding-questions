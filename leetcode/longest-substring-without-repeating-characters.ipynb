{
 "cells": [
  {
   "cell_type": "markdown",
   "metadata": {},
   "source": [
    "[Task Link](https://leetcode.com/problems/longest-substring-without-repeating-characters/)"
   ]
  },
  {
   "cell_type": "code",
   "execution_count": 27,
   "metadata": {},
   "outputs": [
    {
     "name": "stdout",
     "output_type": "stream",
     "text": [
      "looking at abca, max len3\n",
      "map [object Map Iterator]\n",
      "Removing a\n",
      "looking at bcab, max len3\n",
      "map [object Map Iterator]\n",
      "Removing b\n",
      "looking at cabc, max len3\n",
      "map [object Map Iterator]\n",
      "Removing c\n",
      "looking at abcbb, max len4\n",
      "map [object Map Iterator]\n",
      "Removing a\n",
      "Removing b\n",
      "4\n"
     ]
    }
   ],
   "source": [
    "function lengthOfLongestSubstring(s: string): number {\n",
    "    \n",
    "    const freqMap = new Map <string,number>()\n",
    "\n",
    "    let maxLen = 0;\n",
    "    let left = 0;\n",
    "\n",
    "    for(let rightPinter =0; rightPinter< s.length; rightPinter++) {\n",
    "\n",
    "        const currChar = s.charAt(rightPinter);\n",
    "\n",
    "        if(freqMap.has(currChar)) {\n",
    "            console.log(`looking at ${s.substring(left, rightPinter+1)}, max len${maxLen}`)\n",
    "            console.log(`map ${freqMap}`)\n",
    "\n",
    "            // Inc left to rhe current char prev appirence \n",
    "            while (s.charAt(left) != currChar ){\n",
    "                console.log(`Removing ${s.charAt(left)}`);\n",
    "                freqMap.delete(s.charAt(left));\n",
    "                left++ \n",
    "            }\n",
    "            freqMap.delete(s.charAt(left));\n",
    "             console.log(`Removing ${s.charAt(left)}`);\n",
    "            // one past that  \"vova\" - we need the left to point to o and not v \n",
    "            left++\n",
    "\n",
    "        } else {\n",
    "            // console.log({currChar, rightPinter,left,maxLen})\n",
    "            freqMap.set(currChar, 1);\n",
    "            maxLen = Math.max(maxLen, (rightPinter-left)+1)\n",
    "        }\n",
    "\n",
    "    }\n",
    "\n",
    "    return maxLen;\n",
    "}\n",
    "\n",
    "\n",
    "function tests() {\n",
    "    // console.log(lengthOfLongestSubstring(\"abcabcbb\"));\n",
    "    // console.log(lengthOfLongestSubstring(\"bbbbb\"));\n",
    "    console.log(lengthOfLongestSubstring(\"abcabcbb\"));\n",
    "}\n",
    "tests()"
   ]
  },
  {
   "cell_type": "code",
   "execution_count": null,
   "metadata": {},
   "outputs": [],
   "source": []
  }
 ],
 "metadata": {
  "kernelspec": {
   "display_name": "Deno",
   "language": "typescript",
   "name": "deno"
  },
  "language_info": {
   "codemirror_mode": "typescript",
   "file_extension": ".ts",
   "mimetype": "text/x.typescript",
   "name": "typescript",
   "nbconvert_exporter": "script",
   "pygments_lexer": "typescript",
   "version": "5.6.2"
  }
 },
 "nbformat": 4,
 "nbformat_minor": 2
}
